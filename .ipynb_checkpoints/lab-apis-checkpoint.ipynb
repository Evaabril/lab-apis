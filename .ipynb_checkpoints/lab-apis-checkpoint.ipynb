{
 "cells": [
  {
   "cell_type": "markdown",
   "id": "27422808-8a16-4be1-897f-57b379af8991",
   "metadata": {},
   "source": [
    "# Lab | APIs"
   ]
  },
  {
   "cell_type": "markdown",
   "id": "50f30950-3e31-499a-92ea-1535422c570b",
   "metadata": {},
   "source": [
    "In order to use the `Spotify` API (`SpotiPy`), create an account in `Spotify` and follow [these](https://developer.spotify.com/documentation/general/guides/app-settings/) steps. "
   ]
  },
  {
   "cell_type": "markdown",
   "id": "a0479b95-6ca5-415e-b894-1f5cb17b055b",
   "metadata": {},
   "source": [
    "## Authentication and initializing the API"
   ]
  },
  {
   "cell_type": "markdown",
   "id": "47d71611-c617-4972-a0c3-7090c24b399c",
   "metadata": {},
   "source": [
    "Save your client ID and your client secret in your preferred way, and read it or load it into the following variables:"
   ]
  },
  {
   "cell_type": "code",
   "execution_count": 1,
   "id": "ea44c82a-5c07-4dbc-beb2-bba2601bb75e",
   "metadata": {},
   "outputs": [],
   "source": [
    "CLIENT_ID = \"<introduce your client id>\"\n",
    "CLIENT_SECRET = \"<introduce your client secret>\""
   ]
  },
  {
   "cell_type": "code",
   "execution_count": 2,
   "id": "319cfd4e-f6fb-4419-80e0-e3983cd25e43",
   "metadata": {},
   "outputs": [],
   "source": [
    "CLIENT_ID = \"4109b2d9f5014671863bb2df1d1fbdd3\"\n",
    "CLIENT_SECRET = \"5cb719fae80c4191a9c0b288f51bfe50\""
   ]
  },
  {
   "cell_type": "code",
   "execution_count": 3,
   "id": "04e12954-fd70-4311-88a5-fb7e2c29799c",
   "metadata": {},
   "outputs": [
    {
     "name": "stdout",
     "output_type": "stream",
     "text": [
      "Requirement already satisfied: spotipy in c:\\users\\evacv\\anaconda3\\lib\\site-packages (2.23.0)\n",
      "Requirement already satisfied: redis>=3.5.3 in c:\\users\\evacv\\anaconda3\\lib\\site-packages (from spotipy) (5.0.3)\n",
      "Requirement already satisfied: requests>=2.25.0 in c:\\users\\evacv\\anaconda3\\lib\\site-packages (from spotipy) (2.31.0)\n",
      "Requirement already satisfied: six>=1.15.0 in c:\\users\\evacv\\anaconda3\\lib\\site-packages (from spotipy) (1.16.0)\n",
      "Requirement already satisfied: urllib3>=1.26.0 in c:\\users\\evacv\\anaconda3\\lib\\site-packages (from spotipy) (2.0.7)\n",
      "Requirement already satisfied: charset-normalizer<4,>=2 in c:\\users\\evacv\\anaconda3\\lib\\site-packages (from requests>=2.25.0->spotipy) (2.0.4)\n",
      "Requirement already satisfied: idna<4,>=2.5 in c:\\users\\evacv\\anaconda3\\lib\\site-packages (from requests>=2.25.0->spotipy) (3.4)\n",
      "Requirement already satisfied: certifi>=2017.4.17 in c:\\users\\evacv\\anaconda3\\lib\\site-packages (from requests>=2.25.0->spotipy) (2024.2.2)\n"
     ]
    }
   ],
   "source": [
    "# If you havent done so, install the spotipy wrapper\n",
    "!pip install spotipy"
   ]
  },
  {
   "cell_type": "markdown",
   "id": "dc0e86da-8846-4207-84c3-cd20b9e01d0e",
   "metadata": {},
   "source": [
    "Once you have done it, we will start initializing the API."
   ]
  },
  {
   "cell_type": "code",
   "execution_count": 4,
   "id": "03034bc6-9858-412a-83b7-18abdc345d7e",
   "metadata": {},
   "outputs": [],
   "source": [
    "import spotipy\n",
    "from spotipy.oauth2 import SpotifyClientCredentials\n",
    "\n",
    "#Initialize SpotiPy with user credentials\n",
    "sp = spotipy.Spotify(auth_manager=SpotifyClientCredentials(client_id=CLIENT_ID,\n",
    "                                                           client_secret=CLIENT_SECRET))\n"
   ]
  },
  {
   "cell_type": "markdown",
   "id": "8fed9628-08d7-4290-a4be-5527696b01c5",
   "metadata": {},
   "source": [
    "## Using the search method"
   ]
  },
  {
   "cell_type": "markdown",
   "id": "6575a3c6-f25a-4905-b1f3-c0efd50dcc1e",
   "metadata": {},
   "source": [
    "Now, let's use the search method by introducing a \"query\". For example, let's try searching for \"Lady Gaga\":"
   ]
  },
  {
   "cell_type": "code",
   "execution_count": null,
   "id": "7772a1e0-9692-4d04-a590-76111a272d8d",
   "metadata": {
    "tags": []
   },
   "outputs": [],
   "source": [
    "results = sp.search(q='Lady Gaga', limit=50)\n",
    "results"
   ]
  },
  {
   "cell_type": "code",
   "execution_count": null,
   "id": "edc14c95-474b-4e2a-aea3-bdfd0a205546",
   "metadata": {},
   "outputs": [],
   "source": [
    "results.keys() # We can see that we only have tracks"
   ]
  },
  {
   "cell_type": "code",
   "execution_count": null,
   "id": "ad8ef934-1dbb-4008-ac8e-f5c29823fe6a",
   "metadata": {},
   "outputs": [],
   "source": [
    "results[\"tracks\"].keys() # Let's check the values"
   ]
  },
  {
   "cell_type": "code",
   "execution_count": null,
   "id": "004b7814-4dd5-408e-b7ba-1da87f9250cb",
   "metadata": {},
   "outputs": [],
   "source": [
    "results[\"tracks\"][\"href\"] # Query we have searched "
   ]
  },
  {
   "cell_type": "code",
   "execution_count": null,
   "id": "7285cedd-fbe1-47cf-98d5-a7fdc3e5c8b8",
   "metadata": {
    "scrolled": true,
    "tags": []
   },
   "outputs": [],
   "source": [
    "results[\"tracks\"][\"items\"] #items (actual tracks)"
   ]
  },
  {
   "cell_type": "code",
   "execution_count": null,
   "id": "529fff56-47d3-4d78-8ff5-9530fe290d1d",
   "metadata": {},
   "outputs": [],
   "source": [
    "results[\"tracks\"][\"limit\"]#Limit we have chosen"
   ]
  },
  {
   "cell_type": "code",
   "execution_count": null,
   "id": "92c64c57-3bd2-4d42-bbd1-84a040f1e02a",
   "metadata": {},
   "outputs": [],
   "source": [
    "results[\"tracks\"][\"next\"] #link to the next page (next 50 tracks)"
   ]
  },
  {
   "cell_type": "code",
   "execution_count": null,
   "id": "f5ccdf79-5d9e-40de-adb9-2cc1e5b7c74a",
   "metadata": {
    "tags": []
   },
   "outputs": [],
   "source": [
    "results[\"tracks\"][\"offset\"] # Actual offset (starting point)"
   ]
  },
  {
   "cell_type": "code",
   "execution_count": null,
   "id": "356730c1-60a2-4ea8-bd2c-e0522bab8a4d",
   "metadata": {},
   "outputs": [],
   "source": [
    "results[\"tracks\"][\"previous\"] #Previous search"
   ]
  },
  {
   "cell_type": "code",
   "execution_count": null,
   "id": "7c44c8fd-63ea-45ba-94bd-5c5e8e1458b3",
   "metadata": {},
   "outputs": [],
   "source": [
    "results[\"tracks\"][\"total\"] # Number of matches"
   ]
  },
  {
   "cell_type": "markdown",
   "id": "7a127c64-3274-4ecc-aa0f-83ae34af4655",
   "metadata": {},
   "source": [
    "## Exploring the tracks"
   ]
  },
  {
   "cell_type": "code",
   "execution_count": null,
   "id": "6c3541a2-0fd2-41e0-9b27-60a7dc36c4cb",
   "metadata": {
    "scrolled": true,
    "tags": []
   },
   "outputs": [],
   "source": [
    "results[\"tracks\"][\"items\"][0] # Explore the first song"
   ]
  },
  {
   "cell_type": "code",
   "execution_count": null,
   "id": "f2c35eb2-3ea6-4329-9f29-7c062f466638",
   "metadata": {},
   "outputs": [],
   "source": [
    "results[\"tracks\"][\"items\"][0].keys() # We will focus on album, artists, id, name, popularity, type and uri"
   ]
  },
  {
   "cell_type": "code",
   "execution_count": null,
   "id": "889ca3c3-b0c8-4037-96fb-6add847f537f",
   "metadata": {},
   "outputs": [],
   "source": [
    "# Track artists\n",
    "results[\"tracks\"][\"items\"][0][\"artists\"] "
   ]
  },
  {
   "cell_type": "code",
   "execution_count": null,
   "id": "a9c6a0b2-cea7-48ff-8c51-179d15388aa2",
   "metadata": {},
   "outputs": [],
   "source": [
    "# Track artists names\n",
    "for artist in results[\"tracks\"][\"items\"][0][\"artists\"]:\n",
    "    print(artist[\"name\"])"
   ]
  },
  {
   "cell_type": "code",
   "execution_count": null,
   "id": "6a826e9c-d2e7-4537-a82c-3dc3a2b80b9f",
   "metadata": {},
   "outputs": [],
   "source": [
    "# Track ID\n",
    "results[\"tracks\"][\"items\"][0][\"id\"] "
   ]
  },
  {
   "cell_type": "code",
   "execution_count": null,
   "id": "a5bd871b-6087-4680-819c-1a1d8ba879bc",
   "metadata": {},
   "outputs": [],
   "source": [
    "# Track name\n",
    "results[\"tracks\"][\"items\"][0][\"name\"] "
   ]
  },
  {
   "cell_type": "code",
   "execution_count": null,
   "id": "812661f1-29db-452f-a719-cdfbe95ba9f6",
   "metadata": {},
   "outputs": [],
   "source": [
    "# Popularity index\n",
    "results[\"tracks\"][\"items\"][0][\"popularity\"] "
   ]
  },
  {
   "cell_type": "markdown",
   "id": "0e81c762-e6c5-424e-a4eb-12ab45dffb9f",
   "metadata": {},
   "source": [
    "Spotify songs are identified by either a \"url\", a \"uri\", or an \"id\". \n",
    "\n",
    "- The `id` is an alphanumeric code, and it's the nuclear part of the identifier.\n",
    "\n",
    "- The `uri` contains \"spotify:track\" before the id. An uri is useful because it can be searched manually in the Spotify app.\n",
    "\n",
    "- The `url` is a link to the song on the Spotify web player.\n"
   ]
  },
  {
   "cell_type": "code",
   "execution_count": null,
   "id": "8bcdccfc-dde9-4f4b-8af5-3caa335b89b5",
   "metadata": {},
   "outputs": [],
   "source": [
    "results[\"tracks\"][\"items\"][0][\"uri\"]"
   ]
  },
  {
   "cell_type": "markdown",
   "id": "71c3c9c1-4ec2-42bf-a243-b21105ae1699",
   "metadata": {},
   "source": [
    "## Exercise 1: Discovering New Music through Your Favorite Artists\n",
    "\n",
    "**Objective:** \n",
    "Uncover new music by exploring the top tracks of your favorite artists and their related artists.\n",
    "\n",
    "**Instructions:**\n",
    "\n",
    "1. **List Your Favorite Artists**:\n",
    "    - Make a list of your three favorite artists and store it in a variable named `artists`.\n",
    "    - Example: `artists = [\"Los Fabulosos Cadillacs\", \"Manu Chao\", \"Muchachito Bombo Infierno\"]`.\n",
    "\n",
    "2. **Fetch Top Tracks**:\n",
    "    - Write a function named `get_top_tracks`.\n",
    "    - This function should accept an artist's name and return the name of the first 5 top tracks by that artist.\n",
    "    - Use the function `get_top_tracks` to get the first 5 top tracks for each artist in your `artists` list and store the results in a new list named `top_tracks_list`.\n",
    "\n",
    "3. **Discover Related Artists**:\n",
    "    - Write a function named `find_related_artists`.\n",
    "    - This function should accept an artist's name and return the names of the first 5 artists related to the provided artist.\n",
    "    - Store the results in a list named `related_artists_list`.\n",
    "\n",
    "**Challenge:** \n",
    "Combine the above steps to create a playlist that includes the top tracks of your favorite artists and the top tracks of the artists related to them."
   ]
  },
  {
   "cell_type": "code",
   "execution_count": 5,
   "id": "66af4116-36bb-4a1d-a458-43d25ac4c7a6",
   "metadata": {},
   "outputs": [],
   "source": [
    "# Import requests\n",
    "\n",
    "import requests\n",
    "import pandas as pd"
   ]
  },
  {
   "cell_type": "code",
   "execution_count": 6,
   "id": "41980d37-e915-4121-bf27-6638c3a35ad6",
   "metadata": {},
   "outputs": [],
   "source": [
    "# 1. List Your Favorite Artists:\n",
    "artists = ['The Weeknd', \"Ana Mena\", \"Melendi\"]"
   ]
  },
  {
   "cell_type": "code",
   "execution_count": 7,
   "id": "73cd252f-d543-4c37-b1c5-9c67d7ab4039",
   "metadata": {},
   "outputs": [
    {
     "name": "stdout",
     "output_type": "stream",
     "text": [
      "Top tracks de The Weeknd:\n",
      "- One Of The Girls (with JENNIE, Lily Rose Depp)\n",
      "- Starboy\n",
      "- Popular (with Playboi Carti & Madonna) - From The Idol Vol. 1 (Music from the HBO Original Series)\n",
      "- Blinding Lights\n",
      "- Die For You\n",
      "\n",
      "Top tracks de Ana Mena:\n",
      "- Madrid City\n",
      "- LAS 12\n",
      "- Quiero Decirte\n",
      "- Una volta ancora (feat. Ana Mena)\n",
      "- Un Clásico\n",
      "\n",
      "Top tracks de Melendi:\n",
      "- Tu jardín con enanitos\n",
      "- Destino o casualidad\n",
      "- Un violinista en tu tejado\n",
      "- La promesa\n",
      "- Caminando por la vida\n",
      "\n"
     ]
    }
   ],
   "source": [
    "# 2. Fetch Top Tracks:\n",
    "\n",
    "def get_top_tracks(artist_name):\n",
    "    # Search artist\n",
    "    result = sp.search(q='artist:' + artist_name, type='artist')\n",
    "    if len(result['artists']['items']) == 0:\n",
    "        return []\n",
    "\n",
    "    artist_id = result['artists']['items'][0]['id']\n",
    "\n",
    "    # Top tracks\n",
    "    top_tracks = sp.artist_top_tracks(artist_id)\n",
    "    \n",
    "    # Top 5 tracks\n",
    "    top_tracks_names = [track['name'] for track in top_tracks['tracks'][:5]]\n",
    "    \n",
    "    return top_tracks_names\n",
    "\n",
    "# Artists list\n",
    "artists_list = ['The Weeknd', \"Ana Mena\", \"Melendi\"]\n",
    "\n",
    "# Top 5 top tracks for artist_list:\n",
    "top_tracks_list = [get_top_tracks(artist) for artist in artists_list]\n",
    "\n",
    "# Print top 5 tracks list of each artist\n",
    "for i, artist in enumerate(artists_list):\n",
    "    print(f\"Top tracks de {artist}:\")\n",
    "    for track in top_tracks_list[i]:\n",
    "        print(f\"- {track}\")\n",
    "    print()"
   ]
  },
  {
   "cell_type": "code",
   "execution_count": 8,
   "id": "128447c0-4dcb-42fd-9443-eb1ce183fb1e",
   "metadata": {},
   "outputs": [],
   "source": [
    "# 3. Discover related artist\n",
    "\n",
    "import spotipy\n",
    "from spotipy.oauth2 import SpotifyClientCredentials\n",
    "\n",
    "# Configure Spotify API credentials\n",
    "client_credentials_manager = SpotifyClientCredentials(client_id='4109b2d9f5014671863bb2df1d1fbdd3', client_secret='5cb719fae80c4191a9c0b288f51bfe50')\n",
    "sp = spotipy.Spotify(client_credentials_manager=client_credentials_manager)\n",
    "\n"
   ]
  },
  {
   "cell_type": "code",
   "execution_count": 9,
   "id": "98e61327-d664-4b2c-bdfb-80dbbf231b4e",
   "metadata": {},
   "outputs": [],
   "source": [
    "def find_related_artists(artist_name):\n",
    "    # Search the artist\n",
    "    result = sp.search(q='artist:' + artist_name, type='artist')\n",
    "    if len(result['artists']['items']) == 0:\n",
    "        return []\n",
    "\n",
    "    artist_id = result['artists']['items'][0]['id']\n",
    "\n",
    "    # Get the Related Artists\n",
    "    related_artists = sp.artist_related_artists(artist_id)\n",
    "    \n",
    "    # Get the name of the first 5 related artists\n",
    "    related_artists_names = [artist['name'] for artist in related_artists['artists'][:5]]\n",
    "    \n",
    "    return related_artists_names"
   ]
  },
  {
   "cell_type": "code",
   "execution_count": 10,
   "id": "b3993acb-426c-4164-a8d1-3fe733d1e596",
   "metadata": {},
   "outputs": [
    {
     "name": "stdout",
     "output_type": "stream",
     "text": [
      "Related artists of The Weeknd: ['SZA', 'The Neighbourhood', 'Lana Del Rey', 'Drake', 'Doja Cat']\n"
     ]
    }
   ],
   "source": [
    "artist_name = \"The Weeknd\"\n",
    "related_artists_list = find_related_artists(artist_name)\n",
    "print(f\"Related artists of {artist_name}: {related_artists_list}\")"
   ]
  },
  {
   "cell_type": "markdown",
   "id": "0c442378-e26f-47c8-b4f1-b4fa07089935",
   "metadata": {},
   "source": [
    "**Hint Section for 3. **Discover Related Artists**:**\n",
    "\n",
    "1. **Getting Artist ID**:\n",
    "    - Remember that every artist on Spotify has a unique identifier: their `id`. To get the related artists, you first need to fetch the ID of the given artist.\n",
    "    - Consider using the `sp.search` method to query the artist's name. The method requires a `q` parameter, which is your query (in this case, the artist's name). It also has a `limit` parameter, which specifies the number of tracks it returns. In this case, 1 track is enough, since we just want the artist ID. \n",
    "    - Each track in the results has an associated 'artists' field. This field is a list containing details about all artists involved in that track.\n",
    "   - For most tracks, especially those by a single artist, this list will contain one artist. From this artist's details, you can extract the 'id' field, which is the unique identifier for that artist on Spotify.\n",
    "\n",
    "\n",
    "3. **Fetching Related Artists**:\n",
    "    - Once you have the artist's ID, you can use another SpotiPy method to fetch related artists. Think about which SpotiPy method allows you to get related artists using an artist's ID. Here is the documentation link: https://spotipy.readthedocs.io/en/2.22.1/. \n",
    "    - This method will return a list of related artists. You'll need to extract the relevant details (artist names) from this list.\n",
    "\n",
    "4. **Iterating for Multiple Artists**:\n",
    "    - Once you have a function that returns related artists names for one artist, you can use a list comprehension to apply this function to a list of artist names.\n",
    "\n",
    "5. **Testing**:\n",
    "    - Always test your function with one artist name first. Once you're confident it works, then apply it to the entire list.\n",
    "\n",
    "Remember, the key is to break the problem down into manageable steps. Use the SpotiPy documentation as a resource to understand available methods and their return structures."
   ]
  },
  {
   "cell_type": "markdown",
   "id": "94ad5fdc-22e5-4521-8aa1-c6833eb7e949",
   "metadata": {},
   "source": [
    "## Playlists\n",
    "\n",
    "The `sp.featured_playlists()` method in `spotipy` fetches a list of Spotify's featured playlists at a given moment. These are curated playlists that Spotify often highlights on the platform's homepage. The method provides a snapshot of the playlists that are being promoted or featured by Spotify at the time of the request.\n",
    "\n",
    "Once you've fetched the featured playlists, you can extract their IDs (and other details)."
   ]
  },
  {
   "cell_type": "code",
   "execution_count": 11,
   "id": "ae8bf1dd-e20c-4312-b7f5-c2480743612f",
   "metadata": {},
   "outputs": [
    {
     "data": {
      "text/plain": [
       "{'message': 'Popular Playlists',\n",
       " 'playlists': {'href': 'https://api.spotify.com/v1/browse/featured-playlists?offset=0&limit=20',\n",
       "  'items': [{'collaborative': False,\n",
       "    'description': 'Los hits de ahora en la playlist más grande de España. Feat. SAIKO',\n",
       "    'external_urls': {'spotify': 'https://open.spotify.com/playlist/37i9dQZF1DXaxEKcoCdWHD'},\n",
       "    'href': 'https://api.spotify.com/v1/playlists/37i9dQZF1DXaxEKcoCdWHD',\n",
       "    'id': '37i9dQZF1DXaxEKcoCdWHD',\n",
       "    'images': [{'height': None,\n",
       "      'url': 'https://i.scdn.co/image/ab67706f000000024cf7c8b48f3b3900409aa8c3',\n",
       "      'width': None}],\n",
       "    'name': 'Éxitos España',\n",
       "    'owner': {'display_name': 'Spotify',\n",
       "     'external_urls': {'spotify': 'https://open.spotify.com/user/spotify'},\n",
       "     'href': 'https://api.spotify.com/v1/users/spotify',\n",
       "     'id': 'spotify',\n",
       "     'type': 'user',\n",
       "     'uri': 'spotify:user:spotify'},\n",
       "    'primary_color': '#FFFFFF',\n",
       "    'public': True,\n",
       "    'snapshot_id': 'ZirSnAAAAABEIFc/p0ZXwNtoDwGFOtTz',\n",
       "    'tracks': {'href': 'https://api.spotify.com/v1/playlists/37i9dQZF1DXaxEKcoCdWHD/tracks',\n",
       "     'total': 50},\n",
       "    'type': 'playlist',\n",
       "    'uri': 'spotify:playlist:37i9dQZF1DXaxEKcoCdWHD'},\n",
       "   {'collaborative': False,\n",
       "    'description': 'Si está pegao, está aquí. Feat. SAIKO',\n",
       "    'external_urls': {'spotify': 'https://open.spotify.com/playlist/37i9dQZF1DX1HCSfq0nSal'},\n",
       "    'href': 'https://api.spotify.com/v1/playlists/37i9dQZF1DX1HCSfq0nSal',\n",
       "    'id': '37i9dQZF1DX1HCSfq0nSal',\n",
       "    'images': [{'height': None,\n",
       "      'url': 'https://i.scdn.co/image/ab67706f00000002cc525f2fa350ab2278cff77b',\n",
       "      'width': None}],\n",
       "    'name': 'PEGAO',\n",
       "    'owner': {'display_name': 'Spotify',\n",
       "     'external_urls': {'spotify': 'https://open.spotify.com/user/spotify'},\n",
       "     'href': 'https://api.spotify.com/v1/users/spotify',\n",
       "     'id': 'spotify',\n",
       "     'type': 'user',\n",
       "     'uri': 'spotify:user:spotify'},\n",
       "    'primary_color': '#FFFFFF',\n",
       "    'public': True,\n",
       "    'snapshot_id': 'ZirSnAAAAADPhGPk3+pjeIfbH/z9Ym/F',\n",
       "    'tracks': {'href': 'https://api.spotify.com/v1/playlists/37i9dQZF1DX1HCSfq0nSal/tracks',\n",
       "     'total': 40},\n",
       "    'type': 'playlist',\n",
       "    'uri': 'spotify:playlist:37i9dQZF1DX1HCSfq0nSal'},\n",
       "   {'collaborative': False,\n",
       "    'description': \"Today's top Latin hits, elevando nuestra música. Cover: Myke Towers & Bad Bunny\",\n",
       "    'external_urls': {'spotify': 'https://open.spotify.com/playlist/37i9dQZF1DX10zKzsJ2jva'},\n",
       "    'href': 'https://api.spotify.com/v1/playlists/37i9dQZF1DX10zKzsJ2jva',\n",
       "    'id': '37i9dQZF1DX10zKzsJ2jva',\n",
       "    'images': [{'height': None,\n",
       "      'url': 'https://i.scdn.co/image/ab67706f0000000234ce74c01990d55bad436fed',\n",
       "      'width': None}],\n",
       "    'name': 'Viva Latino',\n",
       "    'owner': {'display_name': 'Spotify',\n",
       "     'external_urls': {'spotify': 'https://open.spotify.com/user/spotify'},\n",
       "     'href': 'https://api.spotify.com/v1/users/spotify',\n",
       "     'id': 'spotify',\n",
       "     'type': 'user',\n",
       "     'uri': 'spotify:user:spotify'},\n",
       "    'primary_color': '#FFFFFF',\n",
       "    'public': True,\n",
       "    'snapshot_id': 'ZismwAAAAADRKXx8dZA2JQxVbu+HvEjE',\n",
       "    'tracks': {'href': 'https://api.spotify.com/v1/playlists/37i9dQZF1DX10zKzsJ2jva/tracks',\n",
       "     'total': 50},\n",
       "    'type': 'playlist',\n",
       "    'uri': 'spotify:playlist:37i9dQZF1DX10zKzsJ2jva'},\n",
       "   {'collaborative': False,\n",
       "    'description': 'así suena internet, con Omar Montes',\n",
       "    'external_urls': {'spotify': 'https://open.spotify.com/playlist/37i9dQZF1DWVJv1UsWItkB'},\n",
       "    'href': 'https://api.spotify.com/v1/playlists/37i9dQZF1DWVJv1UsWItkB',\n",
       "    'id': '37i9dQZF1DWVJv1UsWItkB',\n",
       "    'images': [{'height': None,\n",
       "      'url': 'https://i.scdn.co/image/ab67706f000000028e6e03277735202663b7c581',\n",
       "      'width': None}],\n",
       "    'name': 'Viral España 2024',\n",
       "    'owner': {'display_name': 'Spotify',\n",
       "     'external_urls': {'spotify': 'https://open.spotify.com/user/spotify'},\n",
       "     'href': 'https://api.spotify.com/v1/users/spotify',\n",
       "     'id': 'spotify',\n",
       "     'type': 'user',\n",
       "     'uri': 'spotify:user:spotify'},\n",
       "    'primary_color': '#ffffff',\n",
       "    'public': True,\n",
       "    'snapshot_id': 'Zioo+AAAAAB8qiAVLrL/zREEZdIEivbJ',\n",
       "    'tracks': {'href': 'https://api.spotify.com/v1/playlists/37i9dQZF1DWVJv1UsWItkB/tracks',\n",
       "     'total': 101},\n",
       "    'type': 'playlist',\n",
       "    'uri': 'spotify:playlist:37i9dQZF1DWVJv1UsWItkB'},\n",
       "   {'collaborative': False,\n",
       "    'description': 'Los temas que se convertirán en himnos.',\n",
       "    'external_urls': {'spotify': 'https://open.spotify.com/playlist/37i9dQZF1DX2EiUAL7Wdfc'},\n",
       "    'href': 'https://api.spotify.com/v1/playlists/37i9dQZF1DX2EiUAL7Wdfc',\n",
       "    'id': '37i9dQZF1DX2EiUAL7Wdfc',\n",
       "    'images': [{'height': None,\n",
       "      'url': 'https://i.scdn.co/image/ab67706f00000002b1c15761720a3ba8d1e68228',\n",
       "      'width': None}],\n",
       "    'name': 'míticas',\n",
       "    'owner': {'display_name': 'Spotify',\n",
       "     'external_urls': {'spotify': 'https://open.spotify.com/user/spotify'},\n",
       "     'href': 'https://api.spotify.com/v1/users/spotify',\n",
       "     'id': 'spotify',\n",
       "     'type': 'user',\n",
       "     'uri': 'spotify:user:spotify'},\n",
       "    'primary_color': '#ffffff',\n",
       "    'public': True,\n",
       "    'snapshot_id': 'ZiE8RgAAAACRcxlcJGb4xz7q5wNKNBh4',\n",
       "    'tracks': {'href': 'https://api.spotify.com/v1/playlists/37i9dQZF1DX2EiUAL7Wdfc/tracks',\n",
       "     'total': 100},\n",
       "    'type': 'playlist',\n",
       "    'uri': 'spotify:playlist:37i9dQZF1DX2EiUAL7Wdfc'},\n",
       "   {'collaborative': False,\n",
       "    'description': 'Lo mejor del pop en español. Foto: Sebastián Yatra, Aitana',\n",
       "    'external_urls': {'spotify': 'https://open.spotify.com/playlist/37i9dQZF1DX3sCT1ItXgNd'},\n",
       "    'href': 'https://api.spotify.com/v1/playlists/37i9dQZF1DX3sCT1ItXgNd',\n",
       "    'id': '37i9dQZF1DX3sCT1ItXgNd',\n",
       "    'images': [{'height': None,\n",
       "      'url': 'https://i.scdn.co/image/ab67706f00000002435abf4ed7ee7447ca3cc860',\n",
       "      'width': None}],\n",
       "    'name': 'Pop con Ñ',\n",
       "    'owner': {'display_name': 'Spotify',\n",
       "     'external_urls': {'spotify': 'https://open.spotify.com/user/spotify'},\n",
       "     'href': 'https://api.spotify.com/v1/users/spotify',\n",
       "     'id': 'spotify',\n",
       "     'type': 'user',\n",
       "     'uri': 'spotify:user:spotify'},\n",
       "    'primary_color': '#ffffff',\n",
       "    'public': True,\n",
       "    'snapshot_id': 'ZirSnAAAAAAPbHb1NEn/9+zuO+QY/CLc',\n",
       "    'tracks': {'href': 'https://api.spotify.com/v1/playlists/37i9dQZF1DX3sCT1ItXgNd/tracks',\n",
       "     'total': 55},\n",
       "    'type': 'playlist',\n",
       "    'uri': 'spotify:playlist:37i9dQZF1DX3sCT1ItXgNd'},\n",
       "   {'collaborative': False,\n",
       "    'description': 'feat. Rauw Alejandro, Rvssian',\n",
       "    'external_urls': {'spotify': 'https://open.spotify.com/playlist/37i9dQZF1DX8jrCoV9Ccve'},\n",
       "    'href': 'https://api.spotify.com/v1/playlists/37i9dQZF1DX8jrCoV9Ccve',\n",
       "    'id': '37i9dQZF1DX8jrCoV9Ccve',\n",
       "    'images': [{'height': None,\n",
       "      'url': 'https://i.scdn.co/image/ab67706f00000002deb54e2ff3c9c0bac2b21e2f',\n",
       "      'width': None}],\n",
       "    'name': 'temardos',\n",
       "    'owner': {'display_name': 'Spotify',\n",
       "     'external_urls': {'spotify': 'https://open.spotify.com/user/spotify'},\n",
       "     'href': 'https://api.spotify.com/v1/users/spotify',\n",
       "     'id': 'spotify',\n",
       "     'type': 'user',\n",
       "     'uri': 'spotify:user:spotify'},\n",
       "    'primary_color': '#ffffff',\n",
       "    'public': True,\n",
       "    'snapshot_id': 'ZirSnAAAAAApCteq7G0hs/VGJBHQ2joF',\n",
       "    'tracks': {'href': 'https://api.spotify.com/v1/playlists/37i9dQZF1DX8jrCoV9Ccve/tracks',\n",
       "     'total': 150},\n",
       "    'type': 'playlist',\n",
       "    'uri': 'spotify:playlist:37i9dQZF1DX8jrCoV9Ccve'},\n",
       "   {'collaborative': False,\n",
       "    'description': 'Lo mejor de la primera década del milenio.',\n",
       "    'external_urls': {'spotify': 'https://open.spotify.com/playlist/37i9dQZF1DXb0AsvHMF4aM'},\n",
       "    'href': 'https://api.spotify.com/v1/playlists/37i9dQZF1DXb0AsvHMF4aM',\n",
       "    'id': '37i9dQZF1DXb0AsvHMF4aM',\n",
       "    'images': [{'height': None,\n",
       "      'url': 'https://i.scdn.co/image/ab67706f000000025513f520980f87ed0bdb4c78',\n",
       "      'width': None}],\n",
       "    'name': 'Los 2000 España',\n",
       "    'owner': {'display_name': 'Spotify',\n",
       "     'external_urls': {'spotify': 'https://open.spotify.com/user/spotify'},\n",
       "     'href': 'https://api.spotify.com/v1/users/spotify',\n",
       "     'id': 'spotify',\n",
       "     'type': 'user',\n",
       "     'uri': 'spotify:user:spotify'},\n",
       "    'primary_color': '#ffffff',\n",
       "    'public': True,\n",
       "    'snapshot_id': 'ZhZR8gAAAADpfEqvERcLbBMvJe5SFc/o',\n",
       "    'tracks': {'href': 'https://api.spotify.com/v1/playlists/37i9dQZF1DXb0AsvHMF4aM/tracks',\n",
       "     'total': 75},\n",
       "    'type': 'playlist',\n",
       "    'uri': 'spotify:playlist:37i9dQZF1DXb0AsvHMF4aM'},\n",
       "   {'collaborative': False,\n",
       "    'description': 'Puro malianteo. Feat. Morad',\n",
       "    'external_urls': {'spotify': 'https://open.spotify.com/playlist/37i9dQZF1DWXCGnD7W6WDX'},\n",
       "    'href': 'https://api.spotify.com/v1/playlists/37i9dQZF1DWXCGnD7W6WDX',\n",
       "    'id': '37i9dQZF1DWXCGnD7W6WDX',\n",
       "    'images': [{'height': None,\n",
       "      'url': 'https://i.scdn.co/image/ab67706f000000022e1bc85ae5d968ccbefd12ed',\n",
       "      'width': None}],\n",
       "    'name': 'BARRAS',\n",
       "    'owner': {'display_name': 'Spotify',\n",
       "     'external_urls': {'spotify': 'https://open.spotify.com/user/spotify'},\n",
       "     'href': 'https://api.spotify.com/v1/users/spotify',\n",
       "     'id': 'spotify',\n",
       "     'type': 'user',\n",
       "     'uri': 'spotify:user:spotify'},\n",
       "    'primary_color': '#FFFFFF',\n",
       "    'public': True,\n",
       "    'snapshot_id': 'ZhhdnAAAAADOPzlH76Bmfp84n2VlSQba',\n",
       "    'tracks': {'href': 'https://api.spotify.com/v1/playlists/37i9dQZF1DWXCGnD7W6WDX/tracks',\n",
       "     'total': 41},\n",
       "    'type': 'playlist',\n",
       "    'uri': 'spotify:playlist:37i9dQZF1DWXCGnD7W6WDX'},\n",
       "   {'collaborative': False,\n",
       "    'description': 'La casa del flamenco urbano, de los quejíos y del autotune. Petándolo: Nyno Vargas, Los Yakis, Big Lois.',\n",
       "    'external_urls': {'spotify': 'https://open.spotify.com/playlist/37i9dQZF1DWZMtkg0cMXbp'},\n",
       "    'href': 'https://api.spotify.com/v1/playlists/37i9dQZF1DWZMtkg0cMXbp',\n",
       "    'id': '37i9dQZF1DWZMtkg0cMXbp',\n",
       "    'images': [{'height': None,\n",
       "      'url': 'https://i.scdn.co/image/ab67706f000000021cb9577fbb47b929609261a5',\n",
       "      'width': None}],\n",
       "    'name': 'Flamenco + Flow',\n",
       "    'owner': {'display_name': 'Spotify',\n",
       "     'external_urls': {'spotify': 'https://open.spotify.com/user/spotify'},\n",
       "     'href': 'https://api.spotify.com/v1/users/spotify',\n",
       "     'id': 'spotify',\n",
       "     'type': 'user',\n",
       "     'uri': 'spotify:user:spotify'},\n",
       "    'primary_color': '#ffffff',\n",
       "    'public': True,\n",
       "    'snapshot_id': 'ZirSYAAAAACV6xShyugEtYGhVZ0gMFqb',\n",
       "    'tracks': {'href': 'https://api.spotify.com/v1/playlists/37i9dQZF1DWZMtkg0cMXbp/tracks',\n",
       "     'total': 75},\n",
       "    'type': 'playlist',\n",
       "    'uri': 'spotify:playlist:37i9dQZF1DWZMtkg0cMXbp'},\n",
       "   {'collaborative': False,\n",
       "    'description': 'El lugar donde la música es más nuestra. Foto: Luis Cortés.',\n",
       "    'external_urls': {'spotify': 'https://open.spotify.com/playlist/37i9dQZF1DWV7FWPDK0Dg1'},\n",
       "    'href': 'https://api.spotify.com/v1/playlists/37i9dQZF1DWV7FWPDK0Dg1',\n",
       "    'id': '37i9dQZF1DWV7FWPDK0Dg1',\n",
       "    'images': [{'height': None,\n",
       "      'url': 'https://i.scdn.co/image/ab67706f000000026a193c7bd0ee0ad81e69b1c4',\n",
       "      'width': None}],\n",
       "    'name': 'Flamenco Pop',\n",
       "    'owner': {'display_name': 'Spotify',\n",
       "     'external_urls': {'spotify': 'https://open.spotify.com/user/spotify'},\n",
       "     'href': 'https://api.spotify.com/v1/users/spotify',\n",
       "     'id': 'spotify',\n",
       "     'type': 'user',\n",
       "     'uri': 'spotify:user:spotify'},\n",
       "    'primary_color': '#ffffff',\n",
       "    'public': True,\n",
       "    'snapshot_id': 'ZitoIwAAAACYaN+syUGI/WYwnCmSwE9X',\n",
       "    'tracks': {'href': 'https://api.spotify.com/v1/playlists/37i9dQZF1DWV7FWPDK0Dg1/tracks',\n",
       "     'total': 75},\n",
       "    'type': 'playlist',\n",
       "    'uri': 'spotify:playlist:37i9dQZF1DWV7FWPDK0Dg1'},\n",
       "   {'collaborative': False,\n",
       "    'description': 'SAIKO y el resto de novedades más importantes de la semana.',\n",
       "    'external_urls': {'spotify': 'https://open.spotify.com/playlist/37i9dQZF1DX6PYajiT4pAf'},\n",
       "    'href': 'https://api.spotify.com/v1/playlists/37i9dQZF1DX6PYajiT4pAf',\n",
       "    'id': '37i9dQZF1DX6PYajiT4pAf',\n",
       "    'images': [{'height': None,\n",
       "      'url': 'https://i.scdn.co/image/ab67706f00000002da36fcdf024cc9da8ace2dfb',\n",
       "      'width': None}],\n",
       "    'name': 'Novedades Viernes España',\n",
       "    'owner': {'display_name': 'Spotify',\n",
       "     'external_urls': {'spotify': 'https://open.spotify.com/user/spotify'},\n",
       "     'href': 'https://api.spotify.com/v1/users/spotify',\n",
       "     'id': 'spotify',\n",
       "     'type': 'user',\n",
       "     'uri': 'spotify:user:spotify'},\n",
       "    'primary_color': '#A0C3D2',\n",
       "    'public': True,\n",
       "    'snapshot_id': 'ZirSnAAAAABrtv2yBP7tFmywR/hhPxLR',\n",
       "    'tracks': {'href': 'https://api.spotify.com/v1/playlists/37i9dQZF1DX6PYajiT4pAf/tracks',\n",
       "     'total': 65},\n",
       "    'type': 'playlist',\n",
       "    'uri': 'spotify:playlist:37i9dQZF1DX6PYajiT4pAf'},\n",
       "   {'collaborative': False,\n",
       "    'description': 'Hozier is on top of the Hottest 50!',\n",
       "    'external_urls': {'spotify': 'https://open.spotify.com/playlist/37i9dQZF1DXcBWIGoYBM5M'},\n",
       "    'href': 'https://api.spotify.com/v1/playlists/37i9dQZF1DXcBWIGoYBM5M',\n",
       "    'id': '37i9dQZF1DXcBWIGoYBM5M',\n",
       "    'images': [{'height': None,\n",
       "      'url': 'https://i.scdn.co/image/ab67706f000000020ba81215546ef8fd79aa92a7',\n",
       "      'width': None}],\n",
       "    'name': 'Today’s Top Hits',\n",
       "    'owner': {'display_name': 'Spotify',\n",
       "     'external_urls': {'spotify': 'https://open.spotify.com/user/spotify'},\n",
       "     'href': 'https://api.spotify.com/v1/users/spotify',\n",
       "     'id': 'spotify',\n",
       "     'type': 'user',\n",
       "     'uri': 'spotify:user:spotify'},\n",
       "    'primary_color': '#FFFFFF',\n",
       "    'public': True,\n",
       "    'snapshot_id': 'ZismwAAAAABILTsjEehwecy43ITTUDrt',\n",
       "    'tracks': {'href': 'https://api.spotify.com/v1/playlists/37i9dQZF1DXcBWIGoYBM5M/tracks',\n",
       "     'total': 50},\n",
       "    'type': 'playlist',\n",
       "    'uri': 'spotify:playlist:37i9dQZF1DXcBWIGoYBM5M'},\n",
       "   {'collaborative': False,\n",
       "    'description': '💪💪💪',\n",
       "    'external_urls': {'spotify': 'https://open.spotify.com/playlist/37i9dQZF1DWYp5sAHdz27Y'},\n",
       "    'href': 'https://api.spotify.com/v1/playlists/37i9dQZF1DWYp5sAHdz27Y',\n",
       "    'id': '37i9dQZF1DWYp5sAHdz27Y',\n",
       "    'images': [{'height': None,\n",
       "      'url': 'https://i.scdn.co/image/ab67706f00000002656b5f1d7821a695d7ee0935',\n",
       "      'width': None}],\n",
       "    'name': 'Gym 2024',\n",
       "    'owner': {'display_name': 'Spotify',\n",
       "     'external_urls': {'spotify': 'https://open.spotify.com/user/spotify'},\n",
       "     'href': 'https://api.spotify.com/v1/users/spotify',\n",
       "     'id': 'spotify',\n",
       "     'type': 'user',\n",
       "     'uri': 'spotify:user:spotify'},\n",
       "    'primary_color': '#ffffff',\n",
       "    'public': True,\n",
       "    'snapshot_id': 'ZiFGcQAAAABzoO0jK90CcEFZd86xFCif',\n",
       "    'tracks': {'href': 'https://api.spotify.com/v1/playlists/37i9dQZF1DWYp5sAHdz27Y/tracks',\n",
       "     'total': 150},\n",
       "    'type': 'playlist',\n",
       "    'uri': 'spotify:playlist:37i9dQZF1DWYp5sAHdz27Y'},\n",
       "   {'collaborative': False,\n",
       "    'description': 'Relájate y deja que la música te acompañe.',\n",
       "    'external_urls': {'spotify': 'https://open.spotify.com/playlist/37i9dQZF1DWV1PBrIG2weG'},\n",
       "    'href': 'https://api.spotify.com/v1/playlists/37i9dQZF1DWV1PBrIG2weG',\n",
       "    'id': '37i9dQZF1DWV1PBrIG2weG',\n",
       "    'images': [{'height': None,\n",
       "      'url': 'https://i.scdn.co/image/ab67706f000000021d45f687e0e279d29f914a2a',\n",
       "      'width': None}],\n",
       "    'name': 'Chill 2024',\n",
       "    'owner': {'display_name': 'Spotify',\n",
       "     'external_urls': {'spotify': 'https://open.spotify.com/user/spotify'},\n",
       "     'href': 'https://api.spotify.com/v1/users/spotify',\n",
       "     'id': 'spotify',\n",
       "     'type': 'user',\n",
       "     'uri': 'spotify:user:spotify'},\n",
       "    'primary_color': '#ffffff',\n",
       "    'public': True,\n",
       "    'snapshot_id': 'ZfsW+gAAAAD+kUDE2cFoWBgQkuUIOH6P',\n",
       "    'tracks': {'href': 'https://api.spotify.com/v1/playlists/37i9dQZF1DWV1PBrIG2weG/tracks',\n",
       "     'total': 100},\n",
       "    'type': 'playlist',\n",
       "    'uri': 'spotify:playlist:37i9dQZF1DWV1PBrIG2weG'},\n",
       "   {'collaborative': False,\n",
       "    'description': 'Reggaeton hits from SAIKO, Feid, KAROL G, Anitta and more.🔥🍑',\n",
       "    'external_urls': {'spotify': 'https://open.spotify.com/playlist/37i9dQZF1DWY7IeIP1cdjF'},\n",
       "    'href': 'https://api.spotify.com/v1/playlists/37i9dQZF1DWY7IeIP1cdjF',\n",
       "    'id': '37i9dQZF1DWY7IeIP1cdjF',\n",
       "    'images': [{'height': None,\n",
       "      'url': 'https://i.scdn.co/image/ab67706f00000002f47bd899c7b70550689866f5',\n",
       "      'width': None}],\n",
       "    'name': 'Baila Reggaeton',\n",
       "    'owner': {'display_name': 'Spotify',\n",
       "     'external_urls': {'spotify': 'https://open.spotify.com/user/spotify'},\n",
       "     'href': 'https://api.spotify.com/v1/users/spotify',\n",
       "     'id': 'spotify',\n",
       "     'type': 'user',\n",
       "     'uri': 'spotify:user:spotify'},\n",
       "    'primary_color': '#5FF550',\n",
       "    'public': True,\n",
       "    'snapshot_id': 'ZismwAAAAAAQjgRdLhGcDJcoVhKaElhu',\n",
       "    'tracks': {'href': 'https://api.spotify.com/v1/playlists/37i9dQZF1DWY7IeIP1cdjF/tracks',\n",
       "     'total': 50},\n",
       "    'type': 'playlist',\n",
       "    'uri': 'spotify:playlist:37i9dQZF1DWY7IeIP1cdjF'},\n",
       "   {'collaborative': False,\n",
       "    'description': 'El sonido pop de toda la vida. En portada: Rozalén.',\n",
       "    'external_urls': {'spotify': 'https://open.spotify.com/playlist/37i9dQZF1DWTyTiBbDrmml'},\n",
       "    'href': 'https://api.spotify.com/v1/playlists/37i9dQZF1DWTyTiBbDrmml',\n",
       "    'id': '37i9dQZF1DWTyTiBbDrmml',\n",
       "    'images': [{'height': None,\n",
       "      'url': 'https://i.scdn.co/image/ab67706f0000000259e41395cbc7f2520e1963e8',\n",
       "      'width': None}],\n",
       "    'name': 'Pop 100%',\n",
       "    'owner': {'display_name': 'Spotify',\n",
       "     'external_urls': {'spotify': 'https://open.spotify.com/user/spotify'},\n",
       "     'href': 'https://api.spotify.com/v1/users/spotify',\n",
       "     'id': 'spotify',\n",
       "     'type': 'user',\n",
       "     'uri': 'spotify:user:spotify'},\n",
       "    'primary_color': '#ffffff',\n",
       "    'public': True,\n",
       "    'snapshot_id': 'Zitu1QAAAABRXI5OBCXTsFleZkviZf4H',\n",
       "    'tracks': {'href': 'https://api.spotify.com/v1/playlists/37i9dQZF1DWTyTiBbDrmml/tracks',\n",
       "     'total': 110},\n",
       "    'type': 'playlist',\n",
       "    'uri': 'spotify:playlist:37i9dQZF1DWTyTiBbDrmml'},\n",
       "   {'collaborative': False,\n",
       "    'description': 'De la CALLE a la CIMA con Bad Bunny & Myke Towers.',\n",
       "    'external_urls': {'spotify': 'https://open.spotify.com/playlist/37i9dQZF1DWZjqjZMudx9T'},\n",
       "    'href': 'https://api.spotify.com/v1/playlists/37i9dQZF1DWZjqjZMudx9T',\n",
       "    'id': '37i9dQZF1DWZjqjZMudx9T',\n",
       "    'images': [{'height': None,\n",
       "      'url': 'https://i.scdn.co/image/ab67706f00000002ef5b552c0a068c8c9f0cd73e',\n",
       "      'width': None}],\n",
       "    'name': 'MANSIÓN REGGAETÓN',\n",
       "    'owner': {'display_name': 'Spotify',\n",
       "     'external_urls': {'spotify': 'https://open.spotify.com/user/spotify'},\n",
       "     'href': 'https://api.spotify.com/v1/users/spotify',\n",
       "     'id': 'spotify',\n",
       "     'type': 'user',\n",
       "     'uri': 'spotify:user:spotify'},\n",
       "    'primary_color': '#FFFFFF',\n",
       "    'public': True,\n",
       "    'snapshot_id': 'ZisYsAAAAABejORFulU9O9vCihx1Y1h0',\n",
       "    'tracks': {'href': 'https://api.spotify.com/v1/playlists/37i9dQZF1DWZjqjZMudx9T/tracks',\n",
       "     'total': 50},\n",
       "    'type': 'playlist',\n",
       "    'uri': 'spotify:playlist:37i9dQZF1DWZjqjZMudx9T'},\n",
       "   {'collaborative': False,\n",
       "    'description': 'Canciones para disfrutar del viaje.',\n",
       "    'external_urls': {'spotify': 'https://open.spotify.com/playlist/37i9dQZF1DWUbj5dNZ89An'},\n",
       "    'href': 'https://api.spotify.com/v1/playlists/37i9dQZF1DWUbj5dNZ89An',\n",
       "    'id': '37i9dQZF1DWUbj5dNZ89An',\n",
       "    'images': [{'height': None,\n",
       "      'url': 'https://i.scdn.co/image/ab67706f0000000206a77b3763f413baed261b23',\n",
       "      'width': None}],\n",
       "    'name': 'Canta en el coche',\n",
       "    'owner': {'display_name': 'Spotify',\n",
       "     'external_urls': {'spotify': 'https://open.spotify.com/user/spotify'},\n",
       "     'href': 'https://api.spotify.com/v1/users/spotify',\n",
       "     'id': 'spotify',\n",
       "     'type': 'user',\n",
       "     'uri': 'spotify:user:spotify'},\n",
       "    'primary_color': '#ffffff',\n",
       "    'public': True,\n",
       "    'snapshot_id': 'ZgNTcAAAAABz1xhEPL5YAl18qhX3o55j',\n",
       "    'tracks': {'href': 'https://api.spotify.com/v1/playlists/37i9dQZF1DWUbj5dNZ89An/tracks',\n",
       "     'total': 130},\n",
       "    'type': 'playlist',\n",
       "    'uri': 'spotify:playlist:37i9dQZF1DWUbj5dNZ89An'},\n",
       "   {'collaborative': False,\n",
       "    'description': 'Lo mejor del hip hop español. Feat. Recycled J',\n",
       "    'external_urls': {'spotify': 'https://open.spotify.com/playlist/37i9dQZF1DXcd2Vmhfon1w'},\n",
       "    'href': 'https://api.spotify.com/v1/playlists/37i9dQZF1DXcd2Vmhfon1w',\n",
       "    'id': '37i9dQZF1DXcd2Vmhfon1w',\n",
       "    'images': [{'height': None,\n",
       "      'url': 'https://i.scdn.co/image/ab67706f0000000239c5e179950938ccb8c6f93a',\n",
       "      'width': None}],\n",
       "    'name': 'Rap Español',\n",
       "    'owner': {'display_name': 'Spotify',\n",
       "     'external_urls': {'spotify': 'https://open.spotify.com/user/spotify'},\n",
       "     'href': 'https://api.spotify.com/v1/users/spotify',\n",
       "     'id': 'spotify',\n",
       "     'type': 'user',\n",
       "     'uri': 'spotify:user:spotify'},\n",
       "    'primary_color': '#ffffff',\n",
       "    'public': True,\n",
       "    'snapshot_id': 'ZirSYAAAAABHwg+fk4VCTwxgzCyUhT7R',\n",
       "    'tracks': {'href': 'https://api.spotify.com/v1/playlists/37i9dQZF1DXcd2Vmhfon1w/tracks',\n",
       "     'total': 50},\n",
       "    'type': 'playlist',\n",
       "    'uri': 'spotify:playlist:37i9dQZF1DXcd2Vmhfon1w'}],\n",
       "  'limit': 20,\n",
       "  'next': 'https://api.spotify.com/v1/browse/featured-playlists?offset=20&limit=20',\n",
       "  'offset': 0,\n",
       "  'previous': None,\n",
       "  'total': 100}}"
      ]
     },
     "execution_count": 11,
     "metadata": {},
     "output_type": "execute_result"
    }
   ],
   "source": [
    "sp.featured_playlists() # We get a playlist id of a playlist we like"
   ]
  },
  {
   "cell_type": "code",
   "execution_count": 12,
   "id": "25fb0cf8-c13a-41b0-b8f8-7e0700fd1e41",
   "metadata": {},
   "outputs": [
    {
     "name": "stdout",
     "output_type": "stream",
     "text": [
      "Playlist ID: 04QRapYAvLRPOkUNYpWffF\n",
      "Playlist Name: R&B Piano Covers 🎹\n",
      "\n",
      "Playlist ID: 1kUw29wOn5TRablZ76CvHV\n",
      "Playlist Name: Rap and R&b/Pop hits of 2015-2024\n",
      "\n",
      "Playlist ID: 4liDm4FUbLZKkN7hmwBB0x\n",
      "Playlist Name: Top 20 Global artistas. Most monthly listeners\n",
      "\n",
      "Playlist ID: 3m3kuYlDMLTJOEgwUmkgMZ\n",
      "Playlist Name: Chill Vibes / Night Drives 💤🛣 (act ii: date @ 8, prove it, Break from Toronto, Die For You, WAIT FOR U, a lot, 20 Min, Do Not Disturb)\n",
      "\n",
      "Playlist ID: 0VEpCeGqP1UnO5UBSvseDP\n",
      "Playlist Name: My playlist #1 Drake, Future, King Von, Lil Durk, Lil Baby and more \n",
      "\n",
      "Playlist ID: 2piG5wYhUsxn8OyQfVSoXC\n",
      "Playlist Name: La Razón · Ana Mena & GALE\n",
      "\n",
      "Playlist ID: 7gJ7H7693eed3ki7kZ1suy\n",
      "Playlist Name: Ana Mena en concierto en Vigo\n",
      "\n",
      "Playlist ID: 02VkotM54PlQJwOaurp2Gw\n",
      "Playlist Name: Feria 2024 😍😎🥳💙🎢🎡\n",
      "\n",
      "Playlist ID: 43u4jNnEzBTbBBkOGRpmuc\n",
      "Playlist Name: best of la diva doliente 💎\n",
      "\n",
      "Playlist ID: 4LIzRyGDT7H60JkzBkycy4\n",
      "Playlist Name: 6👑\n",
      "\n",
      "Playlist ID: 2ViMowsMV8jQtWtlv4GtsR\n",
      "Playlist Name: Melendi, Estopa, Fondo flamenco y otros artistas\n",
      "\n",
      "Playlist ID: 4rYxkGHLwqj96XNqBb82t4\n",
      "Playlist Name: RUMBA ÉXITOS 👏 Rumba Española de Estopa, Melendi, C. Tangana, Pole, Gipsy Kings, El Barrio...\n",
      "\n",
      "Playlist ID: 54vptWEwbT1IKGbXzPeilb\n",
      "Playlist Name: Melendi, Estopa, Fondo flamenco y otros artistas\n",
      "\n",
      "Playlist ID: 12sMYic6wl4blUFfuMhDZI\n",
      "Playlist Name: Melendi Good\n",
      "\n",
      "Playlist ID: 6ipectCB52UvLT2Jmt0pSk\n",
      "Playlist Name: Melendi❤️‍🩹\n",
      "\n"
     ]
    }
   ],
   "source": [
    "artists = ['The Weeknd', 'Ana Mena', 'Melendi']\n",
    "\n",
    "# Search for playlists containing the artists' names in their titles or descriptions\n",
    "playlists = []\n",
    "for artist in artists:\n",
    "    results = sp.search(q='artist:' + artist, type='playlist', limit=5)\n",
    "    for playlist in results['playlists']['items']:\n",
    "        playlist_id = playlist['id']\n",
    "        playlist_name = playlist['name']\n",
    "        playlists.append({'id': playlist_id, 'name': playlist_name})\n",
    "\n",
    "# Print the details of the playlists\n",
    "for playlist in playlists:\n",
    "    print(\"Playlist ID:\", playlist['id'])\n",
    "    print(\"Playlist Name:\", playlist['name'])\n",
    "    print()"
   ]
  },
  {
   "cell_type": "markdown",
   "id": "90f558f3-c638-4df4-b5a4-e24f7847d52a",
   "metadata": {},
   "source": [
    "### Getting a Playlist's Details\n",
    "To fetch details about a specific playlist, you can use the playlist method. You'll need the playlist's Spotify ID."
   ]
  },
  {
   "cell_type": "markdown",
   "id": "0eef529f-617f-4ea3-8156-07472ac8e6d5",
   "metadata": {},
   "source": [
    "In this example, we will use the following playlist id: *37i9dQZF1DXd9zR7tdziuQ*"
   ]
  },
  {
   "cell_type": "code",
   "execution_count": 13,
   "id": "46d35121-9256-4cf4-81f5-118b87f7af32",
   "metadata": {},
   "outputs": [],
   "source": [
    "playlists = []\n",
    "playlist_id = \"37i9dQZF1DXd9zR7tdziuQ\"\n",
    "playlist = sp.playlist(playlist_id)"
   ]
  },
  {
   "cell_type": "code",
   "execution_count": 14,
   "id": "5260f67f-6024-4fee-8449-30904f03bf76",
   "metadata": {},
   "outputs": [
    {
     "name": "stdout",
     "output_type": "stream",
     "text": [
      "Hits acústicos\n",
      "Relájate con tus canciones favoritas en versión acústica / Descontrai com versões acústicas das tuas músicas preferidas.\n"
     ]
    }
   ],
   "source": [
    "print(playlist['name'])  # Print the playlist's name\n",
    "print(playlist['description'])  # Print the playlist's description"
   ]
  },
  {
   "cell_type": "markdown",
   "id": "13bc8631-69f0-4b98-9cc9-5baecbaea9ba",
   "metadata": {},
   "source": [
    "### Getting Tracks from a Playlist\n",
    "If you want to get the tracks from a specific playlist, you can use the playlist_tracks method."
   ]
  },
  {
   "cell_type": "code",
   "execution_count": 15,
   "id": "69c78f8d-7e6a-4d15-bcbb-fc93edb82433",
   "metadata": {},
   "outputs": [
    {
     "name": "stdout",
     "output_type": "stream",
     "text": [
      "Take Me Home, Country Roads\n",
      "True Colours\n",
      "La Vie En Rose\n",
      "Too Good At Goodbyes - Acoustic\n",
      "Sunday Morning - Acoustic\n",
      "You Are My Sunshine\n",
      "Cold Heart - Acoustic\n",
      "I'm Not the Only One - Live from Spotify, London\n",
      "September Song - Guitar Acoustic\n",
      "Collide - Acoustic Version\n",
      "Baby One More Time - Recorded at Spotify Studios New York City\n",
      "If You Ever Wanna Be In Love - James Bay Spotify Session 2015\n",
      "When You Love Someone - Acoustic\n",
      "Ain't Nobody (Loves Me Better) - Acoustic\n",
      "Rockabye - Acoustic Version\n",
      "Little Talks\n",
      "Shape of You - Acoustic\n",
      "Something Just Like This - Acoustic\n",
      "Wild Love - Acoustic\n",
      "Blinding Lights\n",
      "What About Us - Acoustic\n",
      "Linger\n",
      "Naked - Acoustic Version\n",
      "1973 - Acoustic\n",
      "Billie Jean\n",
      "Perfect - Acoustic\n",
      "Fix You - Live\n",
      "Can't Help Falling in Love\n",
      "Let It Go - James Bay Spotify Session 2015\n",
      "Heaven Is a Place on Earth\n",
      "Firestone - Live Acoustic Version\n",
      "Crazy in Love\n",
      "Chasing Cars\n",
      "Slow Dancing in a Burning Room - Acoustic\n",
      "Price Tag - Acoustic Version\n",
      "Dancing On My Own - Acoustic\n",
      "Halo\n",
      "Summertime Sadness (Acoustic Cover) feat. Keelan Donovan\n",
      "Another Love - Live from Spotify (SXSW)\n",
      "Girls Just Wanna Have Fun - Acoustic\n",
      "Ordinary World\n",
      "Kiss Me - AOL Sessions Acoustic Version\n",
      "All of Me - Live from Spotify Milan\n",
      "We Can't Stop - Acoustic\n",
      "Hey Ya - solo version\n",
      "Have You Ever Seen The Rain - Recorded at Electric Lady Studios NYC\n",
      "It Aint me - Acoustic\n",
      "IDGAF - Acoustic\n",
      "Bizarre Love Triangle - 2014 Remaster\n",
      "Too Much To Ask - Acoustic\n",
      "Mad World - Recorded at Metropolis Studios, London\n",
      "Chandelier - Live from The Village\n",
      "Wild World - Acoustic Version\n",
      "City of Stars\n",
      "Bad Day - Acoustic\n",
      "New Rules - Acoustic\n",
      "Don't Wanna Know - Acoustic Version\n",
      "Landslide\n",
      "Pretty Girl - Acoustic Version\n",
      "I Kissed a Girl\n",
      "U Remind Me - Recorded at Spotify Studios NYC\n",
      "Unchained Melody\n",
      "Rhythm Inside - Acoustic\n",
      "Sex On Fire\n",
      "I Wanna Dance with Somebody\n",
      "When Doves Cry - Recorded At Spotify Studios NYC\n",
      "Cold Water\n",
      "Creep\n",
      "2U - Acoustic Version\n",
      "Over the Rainbow\n",
      "Stitches\n",
      "Your Song - Acoustic\n",
      "Umbrella - Acoustic Version\n",
      "Please Keep Loving Me - Acoustic\n",
      "Shallow\n",
      "Silence\n",
      "I'm the One - Acoustic\n",
      "Brandy (You're a Fine Girl)\n",
      "Nervous - Acoustic\n",
      "She's On My Mind - Guitar Acoustic\n",
      "Crazy - Live Sessions\n",
      "Starboy - Acoustic\n",
      "Shut up and Dance\n",
      "Sugar - Acoustic\n",
      "Stay\n",
      "Dancing in the Moonlight - Acoustic Version\n",
      "XO\n",
      "How to Save a Life - Live in Nashville, TN - December 2006\n",
      "Send My Love (To Your New Lover) - Live\n",
      "Closer\n",
      "Maps\n",
      "Lot To Learn\n",
      "Scars To Your Beautiful\n",
      "Once In a While - Acoustic\n",
      "There's Nothing Holdin Me Back\n",
      "Perfect Strangers - Acoustic\n",
      "New Rules\n",
      "Hello\n",
      "Thunder\n",
      "High and Dry\n"
     ]
    }
   ],
   "source": [
    "tracks = sp.playlist_tracks(playlist_id)\n",
    "for track in tracks['items']:\n",
    "    print(track['track']['name'])  # Print each track's name"
   ]
  },
  {
   "cell_type": "markdown",
   "id": "2775714d-acc7-4555-96bd-2c541ab0855e",
   "metadata": {},
   "source": [
    "### Getting Artists from a Playlist\n",
    "\n",
    "To extract all the artists from the tracks in a playlist, you'd typically follow these steps:\n",
    "\n",
    "1. Fetch the playlist's tracks.\n",
    "2. Iterate through each track.\n",
    "3. For each track, extract the associated artists."
   ]
  },
  {
   "cell_type": "code",
   "execution_count": 16,
   "id": "65c5e5c4-f186-42c6-b136-4ef02b0b01ff",
   "metadata": {},
   "outputs": [
    {
     "name": "stdout",
     "output_type": "stream",
     "text": [
      "['Lana Del Rey', 'Tom Odell', 'Daniela Andrade', 'Sam Smith', 'Maroon 5', 'Jasmine Thompson', 'Elton John', 'Dua Lipa', 'JP Cooper', 'Howie Day', 'Ed Sheeran', 'James Bay', 'James TW', 'The Mayries', 'Julia Sheer', 'Jon D', 'Missy & Blonde', 'Julia Ross', 'Ouvindo', 'Thomas Daniel', 'Freedom Fry', 'James Arthur', 'James Blunt', 'The Civil Wars', 'Kacey Musgraves', 'Kygo', 'Conrad Sewell', 'The Wind and The Wave', 'John Mayer', 'Jessie J', 'Calum Scott', 'Lotte Kestner', 'Megan Davies', 'Keelan Donovan', 'Joy Williams', 'Sixpence None The Richer', 'John Legend', 'Halloran & Kate', 'Obadiah Parker', 'The Lumineers', 'Sara Farell', 'Frente!', 'Niall Horan', 'Lily Allen', 'Sia', 'Joanna Wang', 'Gavin James', 'Daniel Powter', 'Molly Parden', 'Hollow Hum', 'Becca Adams', 'William Fitzsimmons', 'Lykke Li', 'Alex Cornell', 'Rachel Brown', 'Sarah Jarosz', 'Kyle Nachtigal', 'Arlo Parks', 'Clementine Duo', \"Israel Kamakawiwo'ole\", 'Jaclyn Davies', 'Rita Ora', 'The Hound + The Fox', 'Reggii', 'Sunset & Highland', 'Catey Shaw', 'Madilyn Bailey', 'Leroy Sanchez', 'Simon Samaeng', 'Anchor + Bell', 'Francesco Yates', 'Isabella Celander', 'Toploader', 'Anna Elizabeth Laube', 'The Fray', \"I'm With Her\", 'Paul Kowert', 'Tore', 'Colin & Caroline', 'Vivid Color', 'Timeflies', 'Q.Z.B', 'Jonas Blue', 'Erato', 'The Freed']\n"
     ]
    }
   ],
   "source": [
    "# List to store unique artist names\n",
    "artists_list = []\n",
    "\n",
    "for track_item in tracks['items']:\n",
    "    track = track_item['track']\n",
    "    for artist in track['artists']:\n",
    "        artist_name = artist['name']\n",
    "        if artist_name not in artists_list:  # This ensures each artist is added only once\n",
    "            artists_list.append(artist_name)\n",
    "\n",
    "print(artists_list)"
   ]
  },
  {
   "cell_type": "markdown",
   "id": "7b52207e-a4f0-4f90-9f4e-3170d7f0f3fe",
   "metadata": {},
   "source": [
    "## Exercise 2: Unraveling the World of Playlists\n",
    "\n",
    "\n",
    "1. **Featured Exploration**: \n",
    "   - Fetch the list of Spotify's current featured playlists. \n",
    "   - Extract and display the names and IDs of the top 5 featured playlists.\n",
    "   \n",
    "2. **Deep Dive**:\n",
    "   - Choose any one of the top 5 featured playlists (you can choose the one you personally find most interesting or simply pick one randomly).\n",
    "   - Fetch and display its name, description, and total track count.\n",
    "\n",
    "3. **Track-tastic**:\n",
    "   - Extract and display the names of the first 10 tracks in the chosen playlist.\n",
    "\n",
    "4. **Artistic Flair**:\n",
    "   - Create a dictionary where the keys are the names of the first 10 tracks, and the values are lists containing the names of the artists associated with each track.\n",
    "   - For example: `{\"TrackName1\": [\"Artist1\", \"Artist2\"], \"TrackName2\": [\"Artist3\"]}`\n",
    "   "
   ]
  },
  {
   "cell_type": "code",
   "execution_count": 17,
   "id": "ed92d961-9646-4375-a386-ccc320a958f5",
   "metadata": {},
   "outputs": [
    {
     "name": "stdout",
     "output_type": "stream",
     "text": [
      "Top 5 Featured Playlists:\n",
      "Name: Éxitos España\n",
      "ID: 37i9dQZF1DXaxEKcoCdWHD\n",
      "\n",
      "Name: PEGAO\n",
      "ID: 37i9dQZF1DX1HCSfq0nSal\n",
      "\n",
      "Name: Viva Latino\n",
      "ID: 37i9dQZF1DX10zKzsJ2jva\n",
      "\n",
      "Name: Viral España 2024\n",
      "ID: 37i9dQZF1DWVJv1UsWItkB\n",
      "\n",
      "Name: míticas\n",
      "ID: 37i9dQZF1DX2EiUAL7Wdfc\n",
      "\n"
     ]
    }
   ],
   "source": [
    "# 1. Featured Exploration:\n",
    "\n",
    "import spotipy\n",
    "from spotipy.oauth2 import SpotifyClientCredentials\n",
    "\n",
    "# Initialize Spotipy with your credentials\n",
    "client_credentials_manager = SpotifyClientCredentials(client_id='YOUR_CLIENT_ID', client_secret='YOUR_CLIENT_SECRET')\n",
    "sp = spotipy.Spotify(client_credentials_manager=client_credentials_manager)\n",
    "\n",
    "# Fetch the list of Spotify's current featured playlists\n",
    "featured_playlists = sp.featured_playlists()\n",
    "\n",
    "# Extract the names and IDs of the top 5 featured playlists\n",
    "top_featured_playlists = featured_playlists['playlists']['items'][:5]\n",
    "\n",
    "# Display the names and IDs of the top 5 featured playlists\n",
    "print(\"Top 5 Featured Playlists:\")\n",
    "for playlist in top_featured_playlists:\n",
    "    print(\"Name:\", playlist['name'])\n",
    "    print(\"ID:\", playlist['id'])\n",
    "    print()"
   ]
  },
  {
   "cell_type": "code",
   "execution_count": 18,
   "id": "b7abeb0b-fb31-4320-8c28-97ecb168382f",
   "metadata": {},
   "outputs": [
    {
     "name": "stdout",
     "output_type": "stream",
     "text": [
      "Playlist name: Éxitos España\n",
      "Description: Los hits de ahora en la playlist más grande de España. Feat. SAIKO\n",
      "Total number of tracks: 50\n"
     ]
    }
   ],
   "source": [
    "# 2. Deep Dive:\n",
    "\n",
    "import spotipy\n",
    "from spotipy.oauth2 import SpotifyClientCredentials\n",
    "\n",
    "# Configure Spotify API credentials\n",
    "client_credentials_manager = SpotifyClientCredentials(client_id='4109b2d9f5014671863bb2df1d1fbdd3', client_secret='5cb719fae80c4191a9c0b288f51bfe50')\n",
    "sp = spotipy.Spotify(client_credentials_manager=client_credentials_manager)\n",
    "\n",
    "# Get the list of current featured playlists\n",
    "featured_playlists = sp.featured_playlists()\n",
    "\n",
    "# Select the first featured playlist in the list\n",
    "chosen_playlist = featured_playlists['playlists']['items'][0]\n",
    "\n",
    "# Get the ID of the selected playlist\n",
    "playlist_id = chosen_playlist['id']\n",
    "\n",
    "# Get the details of the selected playlist\n",
    "playlist = sp.playlist(playlist_id)\n",
    "\n",
    "# Displays the name, description, and total number of tracks in the selected playlist\n",
    "print(f\"Playlist name: {playlist['name']}\")\n",
    "print(f\"Description: {playlist['description']}\")\n",
    "print(f\"Total number of tracks: {playlist['tracks']['total']}\")\n"
   ]
  },
  {
   "cell_type": "code",
   "execution_count": 20,
   "id": "8ee0491d-7c3d-4626-bb56-93a98b787c9b",
   "metadata": {},
   "outputs": [
    {
     "name": "stdout",
     "output_type": "stream",
     "text": [
      "Names of the first 10 tracks in the playlist:\n",
      "YO LO SOÑÉ\n",
      "Santa\n",
      "ADIVINO\n",
      "El Conjuntito\n",
      "BADGYAL\n",
      "LA SEVILLANA\n",
      "X'CLUSIVO - REMIX\n",
      "Tengo Un Plan\n",
      "NANA DEL HILO ROJO\n",
      "Lo Que Tiene\n"
     ]
    }
   ],
   "source": [
    "# 3. Track-tastic:\n",
    "\n",
    "# Get the tracks from the selected playlist\n",
    "tracks = sp.playlist_tracks(playlist_id)\n",
    "\n",
    "# Show the names of the first 10 tracks\n",
    "print(\"Names of the first 10 tracks in the playlist:\")\n",
    "for track in tracks['items'][:10]:\n",
    "    print(track['track']['name'])"
   ]
  },
  {
   "cell_type": "code",
   "execution_count": 19,
   "id": "515b7231-88c4-49e3-b803-535c788306ea",
   "metadata": {},
   "outputs": [
    {
     "name": "stdout",
     "output_type": "stream",
     "text": [
      "Dictionary of tracks and associated artists:\n",
      "{'YO LO SOÑÉ': ['SAIKO', 'Omar Montes'], 'Santa': ['Rvssian', 'Rauw Alejandro', 'Ayra Starr'], 'ADIVINO': ['Myke Towers', 'Bad Bunny'], 'El Conjuntito': ['El Bobe', 'Omar Montes'], 'BADGYAL': ['SAIKO', 'JC Reyes'], 'LA SEVILLANA': ['Omar Montes'], \"X'CLUSIVO - REMIX\": ['Gonzy', 'SAIKO', 'Arcángel'], 'Tengo Un Plan': ['Key-Key'], 'NANA DEL HILO ROJO': ['SAIKO', 'Sky Rompiendo'], 'Lo Que Tiene': ['Morad', 'Beny Jr', 'Rvfv']}\n"
     ]
    }
   ],
   "source": [
    "# 4. Artistic Flair:\n",
    "\n",
    "# Get the tracks from the selected playlist\n",
    "tracks = sp.playlist_tracks(playlist_id)\n",
    "\n",
    "# Create an empty dictionary to store track names and associated artist names\n",
    "tracks_artists_dict = {}\n",
    "\n",
    "# Iterate over the first 10 tracks in the track list\n",
    "for track_item in tracks['items'][:10]:\n",
    "    track = track_item['track']\n",
    "    track_name = track['name']  \n",
    "    artists_names = [artist['name'] for artist in track['artists']]  \n",
    "    tracks_artists_dict[track_name] = artists_names  \n",
    "\n",
    "# Print dictionary\n",
    "print(\"Dictionary of tracks and associated artists:\")\n",
    "print(tracks_artists_dict)"
   ]
  }
 ],
 "metadata": {
  "kernelspec": {
   "display_name": "Python 3 (ipykernel)",
   "language": "python",
   "name": "python3"
  },
  "language_info": {
   "codemirror_mode": {
    "name": "ipython",
    "version": 3
   },
   "file_extension": ".py",
   "mimetype": "text/x-python",
   "name": "python",
   "nbconvert_exporter": "python",
   "pygments_lexer": "ipython3",
   "version": "3.11.7"
  }
 },
 "nbformat": 4,
 "nbformat_minor": 5
}
